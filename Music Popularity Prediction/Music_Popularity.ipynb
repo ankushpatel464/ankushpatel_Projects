{
  "nbformat": 4,
  "nbformat_minor": 0,
  "metadata": {
    "colab": {
      "provenance": []
    },
    "kernelspec": {
      "name": "python3",
      "display_name": "Python 3"
    },
    "language_info": {
      "name": "python"
    }
  },
  "cells": [
    {
      "cell_type": "code",
      "execution_count": 1,
      "metadata": {
        "colab": {
          "base_uri": "https://localhost:8080/"
        },
        "id": "mo8mG3MoN5N3",
        "outputId": "283f094b-b4bd-4e79-cf6e-552690f99cc9"
      },
      "outputs": [
        {
          "output_type": "stream",
          "name": "stdout",
          "text": [
            "Mounted at /content/drive\n"
          ]
        }
      ],
      "source": [
        "from google.colab import drive\n",
        "drive.mount('/content/drive')"
      ]
    },
    {
      "cell_type": "code",
      "source": [
        "import pandas as pd\n",
        "import numpy as np\n",
        "import seaborn as sns\n",
        "import matplotlib.pyplot as plt\n",
        "from sklearn.metrics import classification_report, accuracy_score\n",
        "from sklearn.model_selection import train_test_split\n",
        "from sklearn.metrics import confusion_matrix\n",
        "from sklearn.neural_network import MLPClassifier"
      ],
      "metadata": {
        "id": "tM_hXJn8Q2qQ"
      },
      "execution_count": 2,
      "outputs": []
    },
    {
      "cell_type": "code",
      "source": [
        "df = pd.read_csv('/content/drive/MyDrive/MusicDataset.csv')\n",
        "df.head()"
      ],
      "metadata": {
        "colab": {
          "base_uri": "https://localhost:8080/",
          "height": 438
        },
        "id": "E4veYEoES41Y",
        "outputId": "e324c0a8-e32b-4dd3-95f0-bde6a8b9d6b2"
      },
      "execution_count": 3,
      "outputs": [
        {
          "output_type": "execute_result",
          "data": {
            "text/plain": [
              "   artist_familiarity  artist_hotttnesss           artist_id  artist_latitude  \\\n",
              "0            0.780462           0.574275  ARMQHX71187B9890D3              NaN   \n",
              "1            0.581794           0.401998  ARD7TVE1187B99BFB1              NaN   \n",
              "2            0.630630           0.417500  ARMJAGH1187FB546F3         35.14968   \n",
              "3            0.487357           0.343428  ARKRRTF1187B9984DA              NaN   \n",
              "4            0.630382           0.454231  AR7G5I41187FB4CE6C              NaN   \n",
              "\n",
              "   artist_location  artist_longitude       artist_name   duration  \\\n",
              "0      Atlanta, GA               NaN          Mastodon  280.21506   \n",
              "1  California - LA               NaN            Casual  218.93179   \n",
              "2      Memphis, TN         -90.04892      The Box Tops  148.03546   \n",
              "3              NaN               NaN  Sonora Santanera  177.47546   \n",
              "4  London, England               NaN          Adam Ant  233.40363   \n",
              "\n",
              "   end_of_fade_in  key  ...  mode_confidence  \\\n",
              "0           0.238    5  ...            0.500   \n",
              "1           0.247    1  ...            0.636   \n",
              "2           0.148    6  ...            0.430   \n",
              "3           0.282    8  ...            0.565   \n",
              "4           0.000    0  ...            0.749   \n",
              "\n",
              "                               release  song_hotttnesss  start_of_fade_out  \\\n",
              "0                 Call of the Mastodon         0.597641            275.528   \n",
              "1                          Fear Itself         0.602120            218.932   \n",
              "2                           Dimensions              NaN            137.915   \n",
              "3  Las Numero 1 De La Sonora Santanera              NaN            172.304   \n",
              "4                        Friend Or Foe              NaN            217.124   \n",
              "\n",
              "     tempo  time_signature  time_signature_confidence              title  \\\n",
              "0  173.205               5                      0.120  Deep Sea Creature   \n",
              "1   92.198               4                      0.778   I Didn't Mean To   \n",
              "2  121.274               4                      0.384          Soul Deep   \n",
              "3  100.070               1                      0.000    Amor De Cabaret   \n",
              "4  119.293               4                      0.000    Something Girls   \n",
              "\n",
              "   year  bbhot  \n",
              "0  2001      0  \n",
              "1     0      0  \n",
              "2  1969      1  \n",
              "3     0      0  \n",
              "4  1982      0  \n",
              "\n",
              "[5 rows x 23 columns]"
            ],
            "text/html": [
              "\n",
              "\n",
              "  <div id=\"df-c81fa014-f8fd-4e52-9a83-6c2a5daa3f4d\">\n",
              "    <div class=\"colab-df-container\">\n",
              "      <div>\n",
              "<style scoped>\n",
              "    .dataframe tbody tr th:only-of-type {\n",
              "        vertical-align: middle;\n",
              "    }\n",
              "\n",
              "    .dataframe tbody tr th {\n",
              "        vertical-align: top;\n",
              "    }\n",
              "\n",
              "    .dataframe thead th {\n",
              "        text-align: right;\n",
              "    }\n",
              "</style>\n",
              "<table border=\"1\" class=\"dataframe\">\n",
              "  <thead>\n",
              "    <tr style=\"text-align: right;\">\n",
              "      <th></th>\n",
              "      <th>artist_familiarity</th>\n",
              "      <th>artist_hotttnesss</th>\n",
              "      <th>artist_id</th>\n",
              "      <th>artist_latitude</th>\n",
              "      <th>artist_location</th>\n",
              "      <th>artist_longitude</th>\n",
              "      <th>artist_name</th>\n",
              "      <th>duration</th>\n",
              "      <th>end_of_fade_in</th>\n",
              "      <th>key</th>\n",
              "      <th>...</th>\n",
              "      <th>mode_confidence</th>\n",
              "      <th>release</th>\n",
              "      <th>song_hotttnesss</th>\n",
              "      <th>start_of_fade_out</th>\n",
              "      <th>tempo</th>\n",
              "      <th>time_signature</th>\n",
              "      <th>time_signature_confidence</th>\n",
              "      <th>title</th>\n",
              "      <th>year</th>\n",
              "      <th>bbhot</th>\n",
              "    </tr>\n",
              "  </thead>\n",
              "  <tbody>\n",
              "    <tr>\n",
              "      <th>0</th>\n",
              "      <td>0.780462</td>\n",
              "      <td>0.574275</td>\n",
              "      <td>ARMQHX71187B9890D3</td>\n",
              "      <td>NaN</td>\n",
              "      <td>Atlanta, GA</td>\n",
              "      <td>NaN</td>\n",
              "      <td>Mastodon</td>\n",
              "      <td>280.21506</td>\n",
              "      <td>0.238</td>\n",
              "      <td>5</td>\n",
              "      <td>...</td>\n",
              "      <td>0.500</td>\n",
              "      <td>Call of the Mastodon</td>\n",
              "      <td>0.597641</td>\n",
              "      <td>275.528</td>\n",
              "      <td>173.205</td>\n",
              "      <td>5</td>\n",
              "      <td>0.120</td>\n",
              "      <td>Deep Sea Creature</td>\n",
              "      <td>2001</td>\n",
              "      <td>0</td>\n",
              "    </tr>\n",
              "    <tr>\n",
              "      <th>1</th>\n",
              "      <td>0.581794</td>\n",
              "      <td>0.401998</td>\n",
              "      <td>ARD7TVE1187B99BFB1</td>\n",
              "      <td>NaN</td>\n",
              "      <td>California - LA</td>\n",
              "      <td>NaN</td>\n",
              "      <td>Casual</td>\n",
              "      <td>218.93179</td>\n",
              "      <td>0.247</td>\n",
              "      <td>1</td>\n",
              "      <td>...</td>\n",
              "      <td>0.636</td>\n",
              "      <td>Fear Itself</td>\n",
              "      <td>0.602120</td>\n",
              "      <td>218.932</td>\n",
              "      <td>92.198</td>\n",
              "      <td>4</td>\n",
              "      <td>0.778</td>\n",
              "      <td>I Didn't Mean To</td>\n",
              "      <td>0</td>\n",
              "      <td>0</td>\n",
              "    </tr>\n",
              "    <tr>\n",
              "      <th>2</th>\n",
              "      <td>0.630630</td>\n",
              "      <td>0.417500</td>\n",
              "      <td>ARMJAGH1187FB546F3</td>\n",
              "      <td>35.14968</td>\n",
              "      <td>Memphis, TN</td>\n",
              "      <td>-90.04892</td>\n",
              "      <td>The Box Tops</td>\n",
              "      <td>148.03546</td>\n",
              "      <td>0.148</td>\n",
              "      <td>6</td>\n",
              "      <td>...</td>\n",
              "      <td>0.430</td>\n",
              "      <td>Dimensions</td>\n",
              "      <td>NaN</td>\n",
              "      <td>137.915</td>\n",
              "      <td>121.274</td>\n",
              "      <td>4</td>\n",
              "      <td>0.384</td>\n",
              "      <td>Soul Deep</td>\n",
              "      <td>1969</td>\n",
              "      <td>1</td>\n",
              "    </tr>\n",
              "    <tr>\n",
              "      <th>3</th>\n",
              "      <td>0.487357</td>\n",
              "      <td>0.343428</td>\n",
              "      <td>ARKRRTF1187B9984DA</td>\n",
              "      <td>NaN</td>\n",
              "      <td>NaN</td>\n",
              "      <td>NaN</td>\n",
              "      <td>Sonora Santanera</td>\n",
              "      <td>177.47546</td>\n",
              "      <td>0.282</td>\n",
              "      <td>8</td>\n",
              "      <td>...</td>\n",
              "      <td>0.565</td>\n",
              "      <td>Las Numero 1 De La Sonora Santanera</td>\n",
              "      <td>NaN</td>\n",
              "      <td>172.304</td>\n",
              "      <td>100.070</td>\n",
              "      <td>1</td>\n",
              "      <td>0.000</td>\n",
              "      <td>Amor De Cabaret</td>\n",
              "      <td>0</td>\n",
              "      <td>0</td>\n",
              "    </tr>\n",
              "    <tr>\n",
              "      <th>4</th>\n",
              "      <td>0.630382</td>\n",
              "      <td>0.454231</td>\n",
              "      <td>AR7G5I41187FB4CE6C</td>\n",
              "      <td>NaN</td>\n",
              "      <td>London, England</td>\n",
              "      <td>NaN</td>\n",
              "      <td>Adam Ant</td>\n",
              "      <td>233.40363</td>\n",
              "      <td>0.000</td>\n",
              "      <td>0</td>\n",
              "      <td>...</td>\n",
              "      <td>0.749</td>\n",
              "      <td>Friend Or Foe</td>\n",
              "      <td>NaN</td>\n",
              "      <td>217.124</td>\n",
              "      <td>119.293</td>\n",
              "      <td>4</td>\n",
              "      <td>0.000</td>\n",
              "      <td>Something Girls</td>\n",
              "      <td>1982</td>\n",
              "      <td>0</td>\n",
              "    </tr>\n",
              "  </tbody>\n",
              "</table>\n",
              "<p>5 rows × 23 columns</p>\n",
              "</div>\n",
              "      <button class=\"colab-df-convert\" onclick=\"convertToInteractive('df-c81fa014-f8fd-4e52-9a83-6c2a5daa3f4d')\"\n",
              "              title=\"Convert this dataframe to an interactive table.\"\n",
              "              style=\"display:none;\">\n",
              "\n",
              "  <svg xmlns=\"http://www.w3.org/2000/svg\" height=\"24px\"viewBox=\"0 0 24 24\"\n",
              "       width=\"24px\">\n",
              "    <path d=\"M0 0h24v24H0V0z\" fill=\"none\"/>\n",
              "    <path d=\"M18.56 5.44l.94 2.06.94-2.06 2.06-.94-2.06-.94-.94-2.06-.94 2.06-2.06.94zm-11 1L8.5 8.5l.94-2.06 2.06-.94-2.06-.94L8.5 2.5l-.94 2.06-2.06.94zm10 10l.94 2.06.94-2.06 2.06-.94-2.06-.94-.94-2.06-.94 2.06-2.06.94z\"/><path d=\"M17.41 7.96l-1.37-1.37c-.4-.4-.92-.59-1.43-.59-.52 0-1.04.2-1.43.59L10.3 9.45l-7.72 7.72c-.78.78-.78 2.05 0 2.83L4 21.41c.39.39.9.59 1.41.59.51 0 1.02-.2 1.41-.59l7.78-7.78 2.81-2.81c.8-.78.8-2.07 0-2.86zM5.41 20L4 18.59l7.72-7.72 1.47 1.35L5.41 20z\"/>\n",
              "  </svg>\n",
              "      </button>\n",
              "\n",
              "\n",
              "\n",
              "    <div id=\"df-73358199-3b9f-4825-9338-0b6dab7a494b\">\n",
              "      <button class=\"colab-df-quickchart\" onclick=\"quickchart('df-73358199-3b9f-4825-9338-0b6dab7a494b')\"\n",
              "              title=\"Suggest charts.\"\n",
              "              style=\"display:none;\">\n",
              "\n",
              "<svg xmlns=\"http://www.w3.org/2000/svg\" height=\"24px\"viewBox=\"0 0 24 24\"\n",
              "     width=\"24px\">\n",
              "    <g>\n",
              "        <path d=\"M19 3H5c-1.1 0-2 .9-2 2v14c0 1.1.9 2 2 2h14c1.1 0 2-.9 2-2V5c0-1.1-.9-2-2-2zM9 17H7v-7h2v7zm4 0h-2V7h2v10zm4 0h-2v-4h2v4z\"/>\n",
              "    </g>\n",
              "</svg>\n",
              "      </button>\n",
              "    </div>\n",
              "\n",
              "<style>\n",
              "  .colab-df-quickchart {\n",
              "    background-color: #E8F0FE;\n",
              "    border: none;\n",
              "    border-radius: 50%;\n",
              "    cursor: pointer;\n",
              "    display: none;\n",
              "    fill: #1967D2;\n",
              "    height: 32px;\n",
              "    padding: 0 0 0 0;\n",
              "    width: 32px;\n",
              "  }\n",
              "\n",
              "  .colab-df-quickchart:hover {\n",
              "    background-color: #E2EBFA;\n",
              "    box-shadow: 0px 1px 2px rgba(60, 64, 67, 0.3), 0px 1px 3px 1px rgba(60, 64, 67, 0.15);\n",
              "    fill: #174EA6;\n",
              "  }\n",
              "\n",
              "  [theme=dark] .colab-df-quickchart {\n",
              "    background-color: #3B4455;\n",
              "    fill: #D2E3FC;\n",
              "  }\n",
              "\n",
              "  [theme=dark] .colab-df-quickchart:hover {\n",
              "    background-color: #434B5C;\n",
              "    box-shadow: 0px 1px 3px 1px rgba(0, 0, 0, 0.15);\n",
              "    filter: drop-shadow(0px 1px 2px rgba(0, 0, 0, 0.3));\n",
              "    fill: #FFFFFF;\n",
              "  }\n",
              "</style>\n",
              "\n",
              "    <script>\n",
              "      async function quickchart(key) {\n",
              "        const containerElement = document.querySelector('#' + key);\n",
              "        const charts = await google.colab.kernel.invokeFunction(\n",
              "            'suggestCharts', [key], {});\n",
              "      }\n",
              "    </script>\n",
              "\n",
              "      <script>\n",
              "\n",
              "function displayQuickchartButton(domScope) {\n",
              "  let quickchartButtonEl =\n",
              "    domScope.querySelector('#df-73358199-3b9f-4825-9338-0b6dab7a494b button.colab-df-quickchart');\n",
              "  quickchartButtonEl.style.display =\n",
              "    google.colab.kernel.accessAllowed ? 'block' : 'none';\n",
              "}\n",
              "\n",
              "        displayQuickchartButton(document);\n",
              "      </script>\n",
              "      <style>\n",
              "    .colab-df-container {\n",
              "      display:flex;\n",
              "      flex-wrap:wrap;\n",
              "      gap: 12px;\n",
              "    }\n",
              "\n",
              "    .colab-df-convert {\n",
              "      background-color: #E8F0FE;\n",
              "      border: none;\n",
              "      border-radius: 50%;\n",
              "      cursor: pointer;\n",
              "      display: none;\n",
              "      fill: #1967D2;\n",
              "      height: 32px;\n",
              "      padding: 0 0 0 0;\n",
              "      width: 32px;\n",
              "    }\n",
              "\n",
              "    .colab-df-convert:hover {\n",
              "      background-color: #E2EBFA;\n",
              "      box-shadow: 0px 1px 2px rgba(60, 64, 67, 0.3), 0px 1px 3px 1px rgba(60, 64, 67, 0.15);\n",
              "      fill: #174EA6;\n",
              "    }\n",
              "\n",
              "    [theme=dark] .colab-df-convert {\n",
              "      background-color: #3B4455;\n",
              "      fill: #D2E3FC;\n",
              "    }\n",
              "\n",
              "    [theme=dark] .colab-df-convert:hover {\n",
              "      background-color: #434B5C;\n",
              "      box-shadow: 0px 1px 3px 1px rgba(0, 0, 0, 0.15);\n",
              "      filter: drop-shadow(0px 1px 2px rgba(0, 0, 0, 0.3));\n",
              "      fill: #FFFFFF;\n",
              "    }\n",
              "  </style>\n",
              "\n",
              "      <script>\n",
              "        const buttonEl =\n",
              "          document.querySelector('#df-c81fa014-f8fd-4e52-9a83-6c2a5daa3f4d button.colab-df-convert');\n",
              "        buttonEl.style.display =\n",
              "          google.colab.kernel.accessAllowed ? 'block' : 'none';\n",
              "\n",
              "        async function convertToInteractive(key) {\n",
              "          const element = document.querySelector('#df-c81fa014-f8fd-4e52-9a83-6c2a5daa3f4d');\n",
              "          const dataTable =\n",
              "            await google.colab.kernel.invokeFunction('convertToInteractive',\n",
              "                                                     [key], {});\n",
              "          if (!dataTable) return;\n",
              "\n",
              "          const docLinkHtml = 'Like what you see? Visit the ' +\n",
              "            '<a target=\"_blank\" href=https://colab.research.google.com/notebooks/data_table.ipynb>data table notebook</a>'\n",
              "            + ' to learn more about interactive tables.';\n",
              "          element.innerHTML = '';\n",
              "          dataTable['output_type'] = 'display_data';\n",
              "          await google.colab.output.renderOutput(dataTable, element);\n",
              "          const docLink = document.createElement('div');\n",
              "          docLink.innerHTML = docLinkHtml;\n",
              "          element.appendChild(docLink);\n",
              "        }\n",
              "      </script>\n",
              "    </div>\n",
              "  </div>\n"
            ]
          },
          "metadata": {},
          "execution_count": 3
        }
      ]
    },
    {
      "cell_type": "code",
      "source": [
        "df.shape"
      ],
      "metadata": {
        "colab": {
          "base_uri": "https://localhost:8080/"
        },
        "id": "DbLBZaYGTdpV",
        "outputId": "ff6188a2-0809-4fb5-d9a4-2908999f97d8"
      },
      "execution_count": 4,
      "outputs": [
        {
          "output_type": "execute_result",
          "data": {
            "text/plain": [
              "(10001, 23)"
            ]
          },
          "metadata": {},
          "execution_count": 4
        }
      ]
    },
    {
      "cell_type": "code",
      "source": [
        "df.isnull().sum()"
      ],
      "metadata": {
        "colab": {
          "base_uri": "https://localhost:8080/"
        },
        "id": "ug97mZHpThHl",
        "outputId": "9c1a5752-e2d3-489b-9c01-b3fcdf9802bb"
      },
      "execution_count": 5,
      "outputs": [
        {
          "output_type": "execute_result",
          "data": {
            "text/plain": [
              "artist_familiarity              4\n",
              "artist_hotttnesss               0\n",
              "artist_id                       0\n",
              "artist_latitude              6259\n",
              "artist_location              4292\n",
              "artist_longitude             6259\n",
              "artist_name                     0\n",
              "duration                        0\n",
              "end_of_fade_in                  0\n",
              "key                             0\n",
              "key_confidence                  0\n",
              "loudness                        0\n",
              "mode                            0\n",
              "mode_confidence                 0\n",
              "release                         0\n",
              "song_hotttnesss              4352\n",
              "start_of_fade_out               0\n",
              "tempo                           0\n",
              "time_signature                  0\n",
              "time_signature_confidence       0\n",
              "title                           1\n",
              "year                            0\n",
              "bbhot                           0\n",
              "dtype: int64"
            ]
          },
          "metadata": {},
          "execution_count": 5
        }
      ]
    },
    {
      "cell_type": "code",
      "source": [
        "drop_list = ['artist_location', 'artist_latitude', 'artist_longitude','artist_name', 'release', 'title']\n",
        "train = df.drop(drop_list, axis=1)"
      ],
      "metadata": {
        "id": "WTV7z_URTlWN"
      },
      "execution_count": 6,
      "outputs": []
    },
    {
      "cell_type": "code",
      "source": [
        "# Filling null values:\n",
        "train[\"song_hotttnesss\"] = train[\"song_hotttnesss\"].fillna(train[\"song_hotttnesss\"].mean())\n",
        "train[\"artist_familiarity\"] = train[\"artist_familiarity\"].fillna(train[\"artist_familiarity\"].median())\n",
        "train.isnull().sum()"
      ],
      "metadata": {
        "colab": {
          "base_uri": "https://localhost:8080/"
        },
        "id": "okdZozf3Tr6V",
        "outputId": "debad726-09f7-499e-d7d3-a54b0f2364f5"
      },
      "execution_count": 7,
      "outputs": [
        {
          "output_type": "execute_result",
          "data": {
            "text/plain": [
              "artist_familiarity           0\n",
              "artist_hotttnesss            0\n",
              "artist_id                    0\n",
              "duration                     0\n",
              "end_of_fade_in               0\n",
              "key                          0\n",
              "key_confidence               0\n",
              "loudness                     0\n",
              "mode                         0\n",
              "mode_confidence              0\n",
              "song_hotttnesss              0\n",
              "start_of_fade_out            0\n",
              "tempo                        0\n",
              "time_signature               0\n",
              "time_signature_confidence    0\n",
              "year                         0\n",
              "bbhot                        0\n",
              "dtype: int64"
            ]
          },
          "metadata": {},
          "execution_count": 7
        }
      ]
    },
    {
      "cell_type": "code",
      "source": [
        "train['bbhot'].value_counts()"
      ],
      "metadata": {
        "colab": {
          "base_uri": "https://localhost:8080/"
        },
        "id": "uDaXyFyJUDGY",
        "outputId": "cf0c0f23-03c5-42d0-e0df-2f98038ab785"
      },
      "execution_count": 8,
      "outputs": [
        {
          "output_type": "execute_result",
          "data": {
            "text/plain": [
              "0    8809\n",
              "1    1192\n",
              "Name: bbhot, dtype: int64"
            ]
          },
          "metadata": {},
          "execution_count": 8
        }
      ]
    },
    {
      "cell_type": "code",
      "source": [
        "#graph distribution of songs that are hot\n",
        "def freq(col):\n",
        "   g = sns.kdeplot(train[col][(train[\"bbhot\"] == 1)], color=\"Blue\", shade = True)\n",
        "   g.set_xlabel(col)\n",
        "   g.set_ylabel(\"Frequency\")\n",
        "   g = g.legend([\"1\"])\n",
        "   plt.show()"
      ],
      "metadata": {
        "id": "U7A24yr8UKnu"
      },
      "execution_count": 9,
      "outputs": []
    },
    {
      "cell_type": "code",
      "source": [
        "freq(\"tempo\")"
      ],
      "metadata": {
        "colab": {
          "base_uri": "https://localhost:8080/",
          "height": 553
        },
        "id": "U5nzZto6VXmq",
        "outputId": "ae07d513-fdfb-4e5e-f8c8-567e8fd88bd3"
      },
      "execution_count": 10,
      "outputs": [
        {
          "output_type": "stream",
          "name": "stderr",
          "text": [
            "<ipython-input-9-a5f23c272c0a>:3: FutureWarning: \n",
            "\n",
            "`shade` is now deprecated in favor of `fill`; setting `fill=True`.\n",
            "This will become an error in seaborn v0.14.0; please update your code.\n",
            "\n",
            "  g = sns.kdeplot(train[col][(train[\"bbhot\"] == 1)], color=\"Blue\", shade = True)\n"
          ]
        },
        {
          "output_type": "display_data",
          "data": {
            "text/plain": [
              "<Figure size 640x480 with 1 Axes>"
            ],
            "image/png": "[encoded data removed]"
          },
          "metadata": {}
        }
      ]
    },
    {
      "cell_type": "code",
      "source": [
        "freq(\"duration\")"
      ],
      "metadata": {
        "colab": {
          "base_uri": "https://localhost:8080/",
          "height": 553
        },
        "id": "-528EKlUVdxp",
        "outputId": "e4122490-1ba5-47c5-8831-bcb5b1082429"
      },
      "execution_count": 16,
      "outputs": [
        {
          "output_type": "stream",
          "name": "stderr",
          "text": [
            "<ipython-input-9-a5f23c272c0a>:3: FutureWarning: \n",
            "\n",
            "`shade` is now deprecated in favor of `fill`; setting `fill=True`.\n",
            "This will become an error in seaborn v0.14.0; please update your code.\n",
            "\n",
            "  g = sns.kdeplot(train[col][(train[\"bbhot\"] == 1)], color=\"Blue\", shade = True)\n"
          ]
        },
        {
          "output_type": "display_data",
          "data": {
            "text/plain": [
              "<Figure size 640x480 with 1 Axes>"
            ],
            "image/png": "[encoded data removed]"
          },
          "metadata": {}
        }
      ]
    },
    {
      "cell_type": "code",
      "source": [
        "freq(\"start_of_fade_out\")"
      ],
      "metadata": {
        "colab": {
          "base_uri": "https://localhost:8080/",
          "height": 554
        },
        "id": "0xzc7q3qViDi",
        "outputId": "f609b6e6-54a6-478d-b56e-ff80d5cf3400"
      },
      "execution_count": 15,
      "outputs": [
        {
          "output_type": "stream",
          "name": "stderr",
          "text": [
            "<ipython-input-9-a5f23c272c0a>:3: FutureWarning: \n",
            "\n",
            "`shade` is now deprecated in favor of `fill`; setting `fill=True`.\n",
            "This will become an error in seaborn v0.14.0; please update your code.\n",
            "\n",
            "  g = sns.kdeplot(train[col][(train[\"bbhot\"] == 1)], color=\"Blue\", shade = True)\n"
          ]
        },
        {
          "output_type": "display_data",
          "data": {
            "text/plain": [
              "<Figure size 640x480 with 1 Axes>"
            ],
            "image/png": "[encoded data removed]"
          },
          "metadata": {}
        }
      ]
    },
    {
      "cell_type": "code",
      "source": [
        "freq(\"end_of_fade_in\")"
      ],
      "metadata": {
        "colab": {
          "base_uri": "https://localhost:8080/",
          "height": 554
        },
        "id": "__2rV6yQViPU",
        "outputId": "0c1923f7-33dd-461a-d624-c556eac70a51"
      },
      "execution_count": 14,
      "outputs": [
        {
          "output_type": "stream",
          "name": "stderr",
          "text": [
            "<ipython-input-9-a5f23c272c0a>:3: FutureWarning: \n",
            "\n",
            "`shade` is now deprecated in favor of `fill`; setting `fill=True`.\n",
            "This will become an error in seaborn v0.14.0; please update your code.\n",
            "\n",
            "  g = sns.kdeplot(train[col][(train[\"bbhot\"] == 1)], color=\"Blue\", shade = True)\n"
          ]
        },
        {
          "output_type": "display_data",
          "data": {
            "text/plain": [
              "<Figure size 640x480 with 1 Axes>"
            ],
            "image/png": "[encoded data removed]"
          },
          "metadata": {}
        }
      ]
    },
    {
      "cell_type": "code",
      "source": [
        "freq(\"mode_confidence\")"
      ],
      "metadata": {
        "colab": {
          "base_uri": "https://localhost:8080/",
          "height": 554
        },
        "id": "3GmcRGxiVpEn",
        "outputId": "dff2a55e-d680-4e09-c803-eda05adcfb69"
      },
      "execution_count": 13,
      "outputs": [
        {
          "output_type": "stream",
          "name": "stderr",
          "text": [
            "<ipython-input-9-a5f23c272c0a>:3: FutureWarning: \n",
            "\n",
            "`shade` is now deprecated in favor of `fill`; setting `fill=True`.\n",
            "This will become an error in seaborn v0.14.0; please update your code.\n",
            "\n",
            "  g = sns.kdeplot(train[col][(train[\"bbhot\"] == 1)], color=\"Blue\", shade = True)\n"
          ]
        },
        {
          "output_type": "display_data",
          "data": {
            "text/plain": [
              "<Figure size 640x480 with 1 Axes>"
            ],
            "image/png": "[encoded data removed]"
          },
          "metadata": {}
        }
      ]
    },
    {
      "cell_type": "code",
      "source": [
        "freq(\"time_signature_confidence\")"
      ],
      "metadata": {
        "colab": {
          "base_uri": "https://localhost:8080/",
          "height": 554
        },
        "id": "wvYEjIwTVsxG",
        "outputId": "0af21661-dd6e-4630-eb66-bb835c9f86fa"
      },
      "execution_count": 12,
      "outputs": [
        {
          "output_type": "stream",
          "name": "stderr",
          "text": [
            "<ipython-input-9-a5f23c272c0a>:3: FutureWarning: \n",
            "\n",
            "`shade` is now deprecated in favor of `fill`; setting `fill=True`.\n",
            "This will become an error in seaborn v0.14.0; please update your code.\n",
            "\n",
            "  g = sns.kdeplot(train[col][(train[\"bbhot\"] == 1)], color=\"Blue\", shade = True)\n"
          ]
        },
        {
          "output_type": "display_data",
          "data": {
            "text/plain": [
              "<Figure size 640x480 with 1 Axes>"
            ],
            "image/png": "[encoded data removed]"
          },
          "metadata": {}
        }
      ]
    },
    {
      "cell_type": "code",
      "source": [
        "freq(\"song_hotttnesss\")"
      ],
      "metadata": {
        "colab": {
          "base_uri": "https://localhost:8080/",
          "height": 554
        },
        "id": "TleWg1SVVs3F",
        "outputId": "b870f08c-a6d7-48d9-afb8-394579c0224a"
      },
      "execution_count": 11,
      "outputs": [
        {
          "output_type": "stream",
          "name": "stderr",
          "text": [
            "<ipython-input-9-a5f23c272c0a>:3: FutureWarning: \n",
            "\n",
            "`shade` is now deprecated in favor of `fill`; setting `fill=True`.\n",
            "This will become an error in seaborn v0.14.0; please update your code.\n",
            "\n",
            "  g = sns.kdeplot(train[col][(train[\"bbhot\"] == 1)], color=\"Blue\", shade = True)\n"
          ]
        },
        {
          "output_type": "display_data",
          "data": {
            "text/plain": [
              "<Figure size 640x480 with 1 Axes>"
            ],
            "image/png": "[encoded data removed]"
          },
          "metadata": {}
        }
      ]
    },
    {
      "cell_type": "code",
      "source": [
        "train1 = train.drop(['artist_id', 'bbhot'], axis = 1)"
      ],
      "metadata": {
        "id": "bhuGayHSV1OU"
      },
      "execution_count": 17,
      "outputs": []
    },
    {
      "cell_type": "code",
      "source": [
        "train2 = train1.drop(['end_of_fade_in', 'key', 'key_confidence', 'mode', 'mode_confidence', 'year'], axis = 1)\n",
        "train2.head(10)"
      ],
      "metadata": {
        "colab": {
          "base_uri": "https://localhost:8080/",
          "height": 363
        },
        "id": "n-T6cOIOV127",
        "outputId": "93186c47-c169-4c80-b4f9-f31020d013f5"
      },
      "execution_count": 20,
      "outputs": [
        {
          "output_type": "execute_result",
          "data": {
            "text/plain": [
              "   artist_familiarity  artist_hotttnesss   duration  loudness  \\\n",
              "0            0.780462           0.574275  280.21506    -3.306   \n",
              "1            0.581794           0.401998  218.93179   -11.197   \n",
              "2            0.630630           0.417500  148.03546    -9.843   \n",
              "3            0.487357           0.343428  177.47546    -9.689   \n",
              "4            0.630382           0.454231  233.40363    -9.013   \n",
              "5            0.651046           0.401724  209.60608    -4.501   \n",
              "6            0.535293           0.385471  267.70240    -9.323   \n",
              "7            0.556496           0.261941  114.78159   -17.302   \n",
              "8            0.801136           0.605507  189.57016   -11.642   \n",
              "9            0.426668           0.332276  269.81832   -13.496   \n",
              "\n",
              "   song_hotttnesss  start_of_fade_out    tempo  time_signature  \\\n",
              "0         0.597641            275.528  173.205               5   \n",
              "1         0.602120            218.932   92.198               4   \n",
              "2         0.342867            137.915  121.274               4   \n",
              "3         0.342867            172.304  100.070               1   \n",
              "4         0.342867            217.124  119.293               4   \n",
              "5         0.604501            198.699  129.738               4   \n",
              "6         0.342867            254.270  147.782               3   \n",
              "7         0.342867            114.782  111.787               1   \n",
              "8         0.342867            181.023  101.430               3   \n",
              "9         0.265861            258.990   86.643               4   \n",
              "\n",
              "   time_signature_confidence  \n",
              "0                      0.120  \n",
              "1                      0.778  \n",
              "2                      0.384  \n",
              "3                      0.000  \n",
              "4                      0.000  \n",
              "5                      0.562  \n",
              "6                      0.454  \n",
              "7                      0.000  \n",
              "8                      0.408  \n",
              "9                      0.487  "
            ],
            "text/html": [
              "\n",
              "\n",
              "  <div id=\"df-9b707d22-bb90-41bd-88aa-5e675b42c948\">\n",
              "    <div class=\"colab-df-container\">\n",
              "      <div>\n",
              "<style scoped>\n",
              "    .dataframe tbody tr th:only-of-type {\n",
              "        vertical-align: middle;\n",
              "    }\n",
              "\n",
              "    .dataframe tbody tr th {\n",
              "        vertical-align: top;\n",
              "    }\n",
              "\n",
              "    .dataframe thead th {\n",
              "        text-align: right;\n",
              "    }\n",
              "</style>\n",
              "<table border=\"1\" class=\"dataframe\">\n",
              "  <thead>\n",
              "    <tr style=\"text-align: right;\">\n",
              "      <th></th>\n",
              "      <th>artist_familiarity</th>\n",
              "      <th>artist_hotttnesss</th>\n",
              "      <th>duration</th>\n",
              "      <th>loudness</th>\n",
              "      <th>song_hotttnesss</th>\n",
              "      <th>start_of_fade_out</th>\n",
              "      <th>tempo</th>\n",
              "      <th>time_signature</th>\n",
              "      <th>time_signature_confidence</th>\n",
              "    </tr>\n",
              "  </thead>\n",
              "  <tbody>\n",
              "    <tr>\n",
              "      <th>0</th>\n",
              "      <td>0.780462</td>\n",
              "      <td>0.574275</td>\n",
              "      <td>280.21506</td>\n",
              "      <td>-3.306</td>\n",
              "      <td>0.597641</td>\n",
              "      <td>275.528</td>\n",
              "      <td>173.205</td>\n",
              "      <td>5</td>\n",
              "      <td>0.120</td>\n",
              "    </tr>\n",
              "    <tr>\n",
              "      <th>1</th>\n",
              "      <td>0.581794</td>\n",
              "      <td>0.401998</td>\n",
              "      <td>218.93179</td>\n",
              "      <td>-11.197</td>\n",
              "      <td>0.602120</td>\n",
              "      <td>218.932</td>\n",
              "      <td>92.198</td>\n",
              "      <td>4</td>\n",
              "      <td>0.778</td>\n",
              "    </tr>\n",
              "    <tr>\n",
              "      <th>2</th>\n",
              "      <td>0.630630</td>\n",
              "      <td>0.417500</td>\n",
              "      <td>148.03546</td>\n",
              "      <td>-9.843</td>\n",
              "      <td>0.342867</td>\n",
              "      <td>137.915</td>\n",
              "      <td>121.274</td>\n",
              "      <td>4</td>\n",
              "      <td>0.384</td>\n",
              "    </tr>\n",
              "    <tr>\n",
              "      <th>3</th>\n",
              "      <td>0.487357</td>\n",
              "      <td>0.343428</td>\n",
              "      <td>177.47546</td>\n",
              "      <td>-9.689</td>\n",
              "      <td>0.342867</td>\n",
              "      <td>172.304</td>\n",
              "      <td>100.070</td>\n",
              "      <td>1</td>\n",
              "      <td>0.000</td>\n",
              "    </tr>\n",
              "    <tr>\n",
              "      <th>4</th>\n",
              "      <td>0.630382</td>\n",
              "      <td>0.454231</td>\n",
              "      <td>233.40363</td>\n",
              "      <td>-9.013</td>\n",
              "      <td>0.342867</td>\n",
              "      <td>217.124</td>\n",
              "      <td>119.293</td>\n",
              "      <td>4</td>\n",
              "      <td>0.000</td>\n",
              "    </tr>\n",
              "    <tr>\n",
              "      <th>5</th>\n",
              "      <td>0.651046</td>\n",
              "      <td>0.401724</td>\n",
              "      <td>209.60608</td>\n",
              "      <td>-4.501</td>\n",
              "      <td>0.604501</td>\n",
              "      <td>198.699</td>\n",
              "      <td>129.738</td>\n",
              "      <td>4</td>\n",
              "      <td>0.562</td>\n",
              "    </tr>\n",
              "    <tr>\n",
              "      <th>6</th>\n",
              "      <td>0.535293</td>\n",
              "      <td>0.385471</td>\n",
              "      <td>267.70240</td>\n",
              "      <td>-9.323</td>\n",
              "      <td>0.342867</td>\n",
              "      <td>254.270</td>\n",
              "      <td>147.782</td>\n",
              "      <td>3</td>\n",
              "      <td>0.454</td>\n",
              "    </tr>\n",
              "    <tr>\n",
              "      <th>7</th>\n",
              "      <td>0.556496</td>\n",
              "      <td>0.261941</td>\n",
              "      <td>114.78159</td>\n",
              "      <td>-17.302</td>\n",
              "      <td>0.342867</td>\n",
              "      <td>114.782</td>\n",
              "      <td>111.787</td>\n",
              "      <td>1</td>\n",
              "      <td>0.000</td>\n",
              "    </tr>\n",
              "    <tr>\n",
              "      <th>8</th>\n",
              "      <td>0.801136</td>\n",
              "      <td>0.605507</td>\n",
              "      <td>189.57016</td>\n",
              "      <td>-11.642</td>\n",
              "      <td>0.342867</td>\n",
              "      <td>181.023</td>\n",
              "      <td>101.430</td>\n",
              "      <td>3</td>\n",
              "      <td>0.408</td>\n",
              "    </tr>\n",
              "    <tr>\n",
              "      <th>9</th>\n",
              "      <td>0.426668</td>\n",
              "      <td>0.332276</td>\n",
              "      <td>269.81832</td>\n",
              "      <td>-13.496</td>\n",
              "      <td>0.265861</td>\n",
              "      <td>258.990</td>\n",
              "      <td>86.643</td>\n",
              "      <td>4</td>\n",
              "      <td>0.487</td>\n",
              "    </tr>\n",
              "  </tbody>\n",
              "</table>\n",
              "</div>\n",
              "      <button class=\"colab-df-convert\" onclick=\"convertToInteractive('df-9b707d22-bb90-41bd-88aa-5e675b42c948')\"\n",
              "              title=\"Convert this dataframe to an interactive table.\"\n",
              "              style=\"display:none;\">\n",
              "\n",
              "  <svg xmlns=\"http://www.w3.org/2000/svg\" height=\"24px\"viewBox=\"0 0 24 24\"\n",
              "       width=\"24px\">\n",
              "    <path d=\"M0 0h24v24H0V0z\" fill=\"none\"/>\n",
              "    <path d=\"M18.56 5.44l.94 2.06.94-2.06 2.06-.94-2.06-.94-.94-2.06-.94 2.06-2.06.94zm-11 1L8.5 8.5l.94-2.06 2.06-.94-2.06-.94L8.5 2.5l-.94 2.06-2.06.94zm10 10l.94 2.06.94-2.06 2.06-.94-2.06-.94-.94-2.06-.94 2.06-2.06.94z\"/><path d=\"M17.41 7.96l-1.37-1.37c-.4-.4-.92-.59-1.43-.59-.52 0-1.04.2-1.43.59L10.3 9.45l-7.72 7.72c-.78.78-.78 2.05 0 2.83L4 21.41c.39.39.9.59 1.41.59.51 0 1.02-.2 1.41-.59l7.78-7.78 2.81-2.81c.8-.78.8-2.07 0-2.86zM5.41 20L4 18.59l7.72-7.72 1.47 1.35L5.41 20z\"/>\n",
              "  </svg>\n",
              "      </button>\n",
              "\n",
              "\n",
              "\n",
              "    <div id=\"df-f30ea3f1-8758-441d-be63-e79f29a86d6a\">\n",
              "      <button class=\"colab-df-quickchart\" onclick=\"quickchart('df-f30ea3f1-8758-441d-be63-e79f29a86d6a')\"\n",
              "              title=\"Suggest charts.\"\n",
              "              style=\"display:none;\">\n",
              "\n",
              "<svg xmlns=\"http://www.w3.org/2000/svg\" height=\"24px\"viewBox=\"0 0 24 24\"\n",
              "     width=\"24px\">\n",
              "    <g>\n",
              "        <path d=\"M19 3H5c-1.1 0-2 .9-2 2v14c0 1.1.9 2 2 2h14c1.1 0 2-.9 2-2V5c0-1.1-.9-2-2-2zM9 17H7v-7h2v7zm4 0h-2V7h2v10zm4 0h-2v-4h2v4z\"/>\n",
              "    </g>\n",
              "</svg>\n",
              "      </button>\n",
              "    </div>\n",
              "\n",
              "<style>\n",
              "  .colab-df-quickchart {\n",
              "    background-color: #E8F0FE;\n",
              "    border: none;\n",
              "    border-radius: 50%;\n",
              "    cursor: pointer;\n",
              "    display: none;\n",
              "    fill: #1967D2;\n",
              "    height: 32px;\n",
              "    padding: 0 0 0 0;\n",
              "    width: 32px;\n",
              "  }\n",
              "\n",
              "  .colab-df-quickchart:hover {\n",
              "    background-color: #E2EBFA;\n",
              "    box-shadow: 0px 1px 2px rgba(60, 64, 67, 0.3), 0px 1px 3px 1px rgba(60, 64, 67, 0.15);\n",
              "    fill: #174EA6;\n",
              "  }\n",
              "\n",
              "  [theme=dark] .colab-df-quickchart {\n",
              "    background-color: #3B4455;\n",
              "    fill: #D2E3FC;\n",
              "  }\n",
              "\n",
              "  [theme=dark] .colab-df-quickchart:hover {\n",
              "    background-color: #434B5C;\n",
              "    box-shadow: 0px 1px 3px 1px rgba(0, 0, 0, 0.15);\n",
              "    filter: drop-shadow(0px 1px 2px rgba(0, 0, 0, 0.3));\n",
              "    fill: #FFFFFF;\n",
              "  }\n",
              "</style>\n",
              "\n",
              "    <script>\n",
              "      async function quickchart(key) {\n",
              "        const containerElement = document.querySelector('#' + key);\n",
              "        const charts = await google.colab.kernel.invokeFunction(\n",
              "            'suggestCharts', [key], {});\n",
              "      }\n",
              "    </script>\n",
              "\n",
              "      <script>\n",
              "\n",
              "function displayQuickchartButton(domScope) {\n",
              "  let quickchartButtonEl =\n",
              "    domScope.querySelector('#df-f30ea3f1-8758-441d-be63-e79f29a86d6a button.colab-df-quickchart');\n",
              "  quickchartButtonEl.style.display =\n",
              "    google.colab.kernel.accessAllowed ? 'block' : 'none';\n",
              "}\n",
              "\n",
              "        displayQuickchartButton(document);\n",
              "      </script>\n",
              "      <style>\n",
              "    .colab-df-container {\n",
              "      display:flex;\n",
              "      flex-wrap:wrap;\n",
              "      gap: 12px;\n",
              "    }\n",
              "\n",
              "    .colab-df-convert {\n",
              "      background-color: #E8F0FE;\n",
              "      border: none;\n",
              "      border-radius: 50%;\n",
              "      cursor: pointer;\n",
              "      display: none;\n",
              "      fill: #1967D2;\n",
              "      height: 32px;\n",
              "      padding: 0 0 0 0;\n",
              "      width: 32px;\n",
              "    }\n",
              "\n",
              "    .colab-df-convert:hover {\n",
              "      background-color: #E2EBFA;\n",
              "      box-shadow: 0px 1px 2px rgba(60, 64, 67, 0.3), 0px 1px 3px 1px rgba(60, 64, 67, 0.15);\n",
              "      fill: #174EA6;\n",
              "    }\n",
              "\n",
              "    [theme=dark] .colab-df-convert {\n",
              "      background-color: #3B4455;\n",
              "      fill: #D2E3FC;\n",
              "    }\n",
              "\n",
              "    [theme=dark] .colab-df-convert:hover {\n",
              "      background-color: #434B5C;\n",
              "      box-shadow: 0px 1px 3px 1px rgba(0, 0, 0, 0.15);\n",
              "      filter: drop-shadow(0px 1px 2px rgba(0, 0, 0, 0.3));\n",
              "      fill: #FFFFFF;\n",
              "    }\n",
              "  </style>\n",
              "\n",
              "      <script>\n",
              "        const buttonEl =\n",
              "          document.querySelector('#df-9b707d22-bb90-41bd-88aa-5e675b42c948 button.colab-df-convert');\n",
              "        buttonEl.style.display =\n",
              "          google.colab.kernel.accessAllowed ? 'block' : 'none';\n",
              "\n",
              "        async function convertToInteractive(key) {\n",
              "          const element = document.querySelector('#df-9b707d22-bb90-41bd-88aa-5e675b42c948');\n",
              "          const dataTable =\n",
              "            await google.colab.kernel.invokeFunction('convertToInteractive',\n",
              "                                                     [key], {});\n",
              "          if (!dataTable) return;\n",
              "\n",
              "          const docLinkHtml = 'Like what you see? Visit the ' +\n",
              "            '<a target=\"_blank\" href=https://colab.research.google.com/notebooks/data_table.ipynb>data table notebook</a>'\n",
              "            + ' to learn more about interactive tables.';\n",
              "          element.innerHTML = '';\n",
              "          dataTable['output_type'] = 'display_data';\n",
              "          await google.colab.output.renderOutput(dataTable, element);\n",
              "          const docLink = document.createElement('div');\n",
              "          docLink.innerHTML = docLinkHtml;\n",
              "          element.appendChild(docLink);\n",
              "        }\n",
              "      </script>\n",
              "    </div>\n",
              "  </div>\n"
            ]
          },
          "metadata": {},
          "execution_count": 20
        }
      ]
    },
    {
      "cell_type": "code",
      "source": [
        "train2.columns"
      ],
      "metadata": {
        "colab": {
          "base_uri": "https://localhost:8080/"
        },
        "id": "HYWtln-gV97U",
        "outputId": "70401a9b-ebf9-4c7e-9228-d8bf97a280ba"
      },
      "execution_count": 21,
      "outputs": [
        {
          "output_type": "execute_result",
          "data": {
            "text/plain": [
              "Index(['artist_familiarity', 'artist_hotttnesss', 'duration', 'loudness',\n",
              "       'song_hotttnesss', 'start_of_fade_out', 'tempo', 'time_signature',\n",
              "       'time_signature_confidence'],\n",
              "      dtype='object')"
            ]
          },
          "metadata": {},
          "execution_count": 21
        }
      ]
    },
    {
      "cell_type": "code",
      "source": [
        "Y = train['bbhot'].copy(deep=True)\n",
        "Y.shape"
      ],
      "metadata": {
        "colab": {
          "base_uri": "https://localhost:8080/"
        },
        "id": "eHR30ZqQWWSo",
        "outputId": "a3e18c18-c26f-40db-e78c-ec2ec508fff5"
      },
      "execution_count": 22,
      "outputs": [
        {
          "output_type": "execute_result",
          "data": {
            "text/plain": [
              "(10001,)"
            ]
          },
          "metadata": {},
          "execution_count": 22
        }
      ]
    },
    {
      "cell_type": "code",
      "source": [
        "X_train, X_test, y_train, y_test = train_test_split(train2, Y, test_size=0.3, random_state=0)"
      ],
      "metadata": {
        "id": "8TKshUbaWavW"
      },
      "execution_count": 23,
      "outputs": []
    },
    {
      "cell_type": "code",
      "source": [
        "clf1 = MLPClassifier(hidden_layer_sizes=(200,150,50), max_iter=200,activation = 'relu',solver='adam',random_state=1)\n",
        "clf1.fit(X_train, y_train)\n",
        "\n",
        "print(clf1.score(X_train, y_train))"
      ],
      "metadata": {
        "colab": {
          "base_uri": "https://localhost:8080/"
        },
        "id": "XS8IV0C5WgGe",
        "outputId": "741fb691-825b-4dd3-e1a2-c612f089935e"
      },
      "execution_count": 24,
      "outputs": [
        {
          "output_type": "stream",
          "name": "stdout",
          "text": [
            "0.8791428571428571\n"
          ]
        }
      ]
    },
    {
      "cell_type": "code",
      "source": [
        "#Predicting y for X_val\n",
        "y_pred = clf1.predict(X_test)\n",
        "print(round(clf1.score(X_test, y_test),4)*100,\"%\")"
      ],
      "metadata": {
        "colab": {
          "base_uri": "https://localhost:8080/"
        },
        "id": "ppuAUkRcWlSw",
        "outputId": "09701aeb-96b9-4c3a-9d9c-d7dd90650c7c"
      },
      "execution_count": 28,
      "outputs": [
        {
          "output_type": "stream",
          "name": "stdout",
          "text": [
            "88.47 %\n"
          ]
        }
      ]
    },
    {
      "cell_type": "code",
      "source": [
        "print(classification_report(y_test, y_pred))"
      ],
      "metadata": {
        "colab": {
          "base_uri": "https://localhost:8080/"
        },
        "id": "Up_0dghcWn8D",
        "outputId": "fcff6457-f63f-4ea6-8dc0-8f05df41653b"
      },
      "execution_count": 29,
      "outputs": [
        {
          "output_type": "stream",
          "name": "stdout",
          "text": [
            "              precision    recall  f1-score   support\n",
            "\n",
            "           0       0.88      1.00      0.94      2655\n",
            "           1       0.00      0.00      0.00       346\n",
            "\n",
            "    accuracy                           0.88      3001\n",
            "   macro avg       0.44      0.50      0.47      3001\n",
            "weighted avg       0.78      0.88      0.83      3001\n",
            "\n"
          ]
        },
        {
          "output_type": "stream",
          "name": "stderr",
          "text": [
            "/usr/local/lib/python3.10/dist-packages/sklearn/metrics/_classification.py:1344: UndefinedMetricWarning: Precision and F-score are ill-defined and being set to 0.0 in labels with no predicted samples. Use `zero_division` parameter to control this behavior.\n",
            "  _warn_prf(average, modifier, msg_start, len(result))\n",
            "/usr/local/lib/python3.10/dist-packages/sklearn/metrics/_classification.py:1344: UndefinedMetricWarning: Precision and F-score are ill-defined and being set to 0.0 in labels with no predicted samples. Use `zero_division` parameter to control this behavior.\n",
            "  _warn_prf(average, modifier, msg_start, len(result))\n",
            "/usr/local/lib/python3.10/dist-packages/sklearn/metrics/_classification.py:1344: UndefinedMetricWarning: Precision and F-score are ill-defined and being set to 0.0 in labels with no predicted samples. Use `zero_division` parameter to control this behavior.\n",
            "  _warn_prf(average, modifier, msg_start, len(result))\n"
          ]
        }
      ]
    },
    {
      "cell_type": "code",
      "source": [
        "# Plotting graph for MLPClassifier\n",
        "loss_values = clf1.loss_curve_\n",
        "plt.plot(loss_values)\n",
        "plt.show()"
      ],
      "metadata": {
        "colab": {
          "base_uri": "https://localhost:8080/",
          "height": 430
        },
        "id": "uYEucNlKWrUN",
        "outputId": "87577dfb-037c-4624-ce8b-a1b334bf5d74"
      },
      "execution_count": 30,
      "outputs": [
        {
          "output_type": "display_data",
          "data": {
            "text/plain": [
              "<Figure size 640x480 with 1 Axes>"
            ],
            "image/png": "[encoded data removed]"
          },
          "metadata": {}
        }
      ]
    }
  ]
}